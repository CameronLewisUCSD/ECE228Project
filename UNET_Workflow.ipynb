{
 "cells": [
  {
   "cell_type": "code",
   "execution_count": 1,
   "metadata": {},
   "outputs": [],
   "source": [
    "%reload_ext autoreload\n",
    "%autoreload 2\n",
    "import numpy as np\n",
    "from data import * # data contains dataloader and data manipulation functions\n",
    "from train import * # train network  functions\n",
    "from networks import * # autoencoder class and weight initializations \n",
    "from visualisation import * #plotting and visualization functions\n",
    "from train_clust import * #gmm and  clustering functions\n",
    "import matplotlib as mpl                                         #######################################\n",
    "import matplotlib.gridspec as gridspec\n",
    "from matplotlib.patches import ConnectionPatch                   # plotting and visulaization packages\n",
    "import matplotlib.pyplot as plt\n",
    "from mpl_toolkits.axes_grid1 import make_axes_locatable\n",
    "from mpl_toolkits.axes_grid1.inset_locator import inset_axes     #######################################\n",
    "from cuml import TSNE                                            # TSNE computaion is much faster than sklearns, cuml uses gpu\n",
    "torch.set_default_dtype(torch.float64)                           # use larger data  type sizes to avoid underflow issues \n",
    "#device = torch.device('cuda')\n",
    "dataset = H5SeismicDataset(                                     \n",
    "    filepath=\"/datasets/ee228-sp21-A00-public/RIS_Seismic-001.h5\",# load the dataset and transform spectragrams to tensors \n",
    "    transform = transforms.Compose(\n",
    "        [SpecgramShaper(), SpecgramToTensor()]\n",
    "    )\n",
    ")\n",
    "\n",
    "dataloaders = getDataloaderSplit(dataset, 0.2,0.1)                # using 70%, 20%, 10%, train, val, test split "
   ]
  },
  {
   "cell_type": "code",
   "execution_count": 2,
   "metadata": {},
   "outputs": [
    {
     "name": "stdout",
     "output_type": "stream",
     "text": [
      "epoch:   0  train loss:  tensor(0.1027)\n",
      "epoch:   0  train loss:  tensor(0.0072)\n",
      "epoch:   0  train loss:  tensor(0.0004)\n",
      "epoch:   0  train loss:  tensor(0.0002)\n",
      "epoch:   0  train loss:  tensor(0.0001)\n",
      "epoch:   0  train loss:  tensor(8.3598e-05)\n",
      "epoch:   0  val loss:  tensor(8.1417e-05)\n",
      "epoch:   0  val loss:  tensor(7.4362e-05)\n",
      "\n",
      "========================================================\n",
      "train loss tensor(0.0060) val_loss  tensor(7.6807e-05)\n",
      "========================================================\n",
      "\n",
      "epoch:   1  train loss:  tensor(6.6301e-05)\n",
      "epoch:   1  train loss:  tensor(6.5301e-05)\n",
      "epoch:   1  train loss:  tensor(5.1758e-05)\n",
      "epoch:   1  train loss:  tensor(4.9545e-05)\n",
      "epoch:   1  train loss:  tensor(4.1226e-05)\n",
      "epoch:   1  train loss:  tensor(3.5852e-05)\n",
      "epoch:   1  val loss:  tensor(3.2022e-05)\n",
      "epoch:   1  val loss:  tensor(2.9191e-05)\n",
      "\n",
      "========================================================\n",
      "train loss tensor(4.9230e-05) val_loss  tensor(3.0847e-05)\n",
      "========================================================\n",
      "\n",
      "epoch:   2  train loss:  tensor(2.7759e-05)\n",
      "epoch:   2  train loss:  tensor(2.2067e-05)\n",
      "epoch:   2  train loss:  tensor(1.3733e-05)\n",
      "epoch:   2  train loss:  tensor(6.8019e-06)\n",
      "epoch:   2  train loss:  tensor(4.0681e-06)\n",
      "epoch:   2  train loss:  tensor(2.8513e-06)\n",
      "epoch:   2  val loss:  tensor(2.6845e-06)\n",
      "epoch:   2  val loss:  tensor(2.5215e-06)\n",
      "\n",
      "========================================================\n",
      "train loss tensor(1.0807e-05) val_loss  tensor(2.7551e-06)\n",
      "========================================================\n",
      "\n"
     ]
    }
   ],
   "source": [
    "#Use a saved model\n",
    "USE_SAVED=False\n",
    "if USE_SAVED:\n",
    "    PATH='./saved_models/AEC/state_dict_AEC.pt'\n",
    "    PATH1='./saved_models/AEC/test_lr001_epochs10.pt'\n",
    "\n",
    "    #model = AEC()\n",
    "    #model.load_state_dict(torch.load(PATH))\n",
    "    model = torch.load(PATH1)\n",
    "    model.eval()\n",
    "    #clustTrain(model,dataloaders)\n",
    "else:\n",
    "    device = torch.device('cuda')\n",
    "    model = UNET()\n",
    "    model.to(device)\n",
    "    params={'lr':.00001,'epochs':3,}\n",
    "    outputs = pretrain(model= model,dataloaders=dataloaders,device=device,lr=params['lr'], epochs=params['epochs'], absoluteLossThresh = 0.0032)"
   ]
  },
  {
   "cell_type": "code",
   "execution_count": 3,
   "metadata": {},
   "outputs": [
    {
     "name": "stdout",
     "output_type": "stream",
     "text": [
      "504 504\n"
     ]
    },
    {
     "data": {
      "image/png": "[encoded data removed]",
      "text/plain": [
       "<Figure size 720x720 with 1 Axes>"
      ]
     },
     "metadata": {
      "needs_background": "light"
     },
     "output_type": "display_data"
    }
   ],
   "source": [
    "get_graphs(outputs[1],outputs[0],'./saved_models/UNET/u_net_loss_fig_iterations.png')\n",
    "print(len(outputs[3]),len(outputs[4]))"
   ]
  },
  {
   "cell_type": "code",
   "execution_count": null,
   "metadata": {},
   "outputs": [],
   "source": [
    "z_array = getLatentFeatureSpaceDataset(model, dataloaders[0], double=True)"
   ]
  },
  {
   "cell_type": "code",
   "execution_count": null,
   "metadata": {},
   "outputs": [],
   "source": [
    "model.to(torch.device('cpu'))\n",
    "model = clustTrain(model,latentSpaceArray=z_array)\n",
    "#a total of 580 indexes is expected"
   ]
  },
  {
   "cell_type": "code",
   "execution_count": null,
   "metadata": {},
   "outputs": [],
   "source": [
    "labels = model.gmm.predict(z_array)"
   ]
  },
  {
   "cell_type": "code",
   "execution_count": null,
   "metadata": {},
   "outputs": [],
   "source": [
    "tsne_Z = tsne(z_array)"
   ]
  },
  {
   "cell_type": "code",
   "execution_count": null,
   "metadata": {},
   "outputs": [],
   "source": [
    "out = view_TSNE(tsne_Z,labels,\"TSNE on GMM\",True)"
   ]
  },
  {
   "cell_type": "code",
   "execution_count": null,
   "metadata": {},
   "outputs": [],
   "source": [
    "PATH='./saved_models/UNET/UNET_state_dict.pt'\n",
    "torch.save(model.state_dict(), PATH)"
   ]
  },
  {
   "cell_type": "code",
   "execution_count": null,
   "metadata": {},
   "outputs": [],
   "source": []
  }
 ],
 "metadata": {
  "kernelspec": {
   "display_name": "RIS_CUDA_V_10-1_Correct",
   "language": "python",
   "name": "ris_cuda_v_10-1_correct"
  },
  "language_info": {
   "codemirror_mode": {
    "name": "ipython",
    "version": 3
   },
   "file_extension": ".py",
   "mimetype": "text/x-python",
   "name": "python",
   "nbconvert_exporter": "python",
   "pygments_lexer": "ipython3",
   "version": "3.8.10"
  }
 },
 "nbformat": 4,
 "nbformat_minor": 2
}
