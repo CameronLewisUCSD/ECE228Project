{
 "cells": [
  {
   "cell_type": "code",
   "execution_count": 67,
   "metadata": {},
   "outputs": [],
   "source": [
    "import torch\n",
    "import torch.nn as nn \n",
    "import torch.nn.functional as f\n",
    "import numpy as np\n",
    "\n",
    "class UNET(nn.Module):\n",
    "    \"\"\"\n",
    "    Description: \n",
    "    Inputs:\n",
    "        - Input data (spectrograms)\n",
    "    Outputs:\n",
    "        - Reconstructed data\n",
    "        - Latent space data\n",
    "    \"\"\"\n",
    "    def __init__(self):\n",
    "        super(UNET, self).__init__()\n",
    "        \n",
    "        #down\n",
    "        self.c1 = nn.Conv2d(1, 8, kernel_size=(3,3), stride=(2,2), padding=(1,1)) \n",
    "        self.c2 = nn.Conv2d(8, 16, kernel_size=(3,3), stride=(2,2), padding=(1,1))\n",
    "        self.c3 = nn.Conv2d(16, 32, kernel_size=(3,3), stride=(2,2), padding=(1,1))\n",
    "        self.c4 = nn.Conv2d(32, 64, kernel_size=(3,3), stride=(2,2), padding=(0,1))\n",
    "        self.c5 = nn.Conv2d(64, 128, kernel_size=(3,3), stride=(2,2), padding=(1,0))\n",
    "        \n",
    "        #latent\n",
    "        \n",
    "        self.l1 = nn.Linear(1152,9)\n",
    "        self.f1 = nn.Flatten()\n",
    "        \n",
    "        #up\n",
    "        self.l2=nn.Linear(9,1152)\n",
    "        #up\n",
    "        self.c6=nn.ConvTranspose2d(128, 64, kernel_size=(3,3), stride=(2,2), padding=(1,0))  \n",
    "        self.c7=nn.ConvTranspose2d(64, 32, kernel_size=(3,3), stride=(2,2), padding=(0,1))      \n",
    "        self.c8=nn.ConvTranspose2d(32, 16, kernel_size=(3,3), stride=(2,2), padding=(1,1))\n",
    "        self.c9=nn.ConvTranspose2d(16, 8, kernel_size=(3,3), stride=(2,2), padding=(0,1))\n",
    "        self.c10=nn.ConvTranspose2d(8, 1, kernel_size=(3,3), stride=(2,2), padding=(0,1))\n",
    "\n",
    "    def forward(self, x):\n",
    "        \n",
    "        #down \n",
    "        x1 = f.relu(self.c1(x))\n",
    "        x2 = f.relu(self.c2(x1))\n",
    "        x3 = f.relu(self.c3(x2))\n",
    "        x4 = f.relu(self.c4(x3))\n",
    "        x5 = f.relu(self.c5(x4))\n",
    "        \n",
    "        \n",
    "        x_latent=f.relu(self.l1(self.f1(x5)))\n",
    "        x_unlatent=f.relu(self.l2(x_latent))\n",
    "        #up\n",
    "        x_unlatent =  x_unlatent.view(-1, 128, 3, 3)\n",
    "        \n",
    "        #up\n",
    "        x6= f.relu(self.c6(x_unlatent))\n",
    "        \n",
    "\n",
    "        print(x4.shape)\n",
    "        print(x6.shape)\n",
    "        #print(tf.size(x4))\n",
    "        \n",
    "        u6=torch.cat([x6, x4])\n",
    "        x7= f.relu(self.c7(u6))\n",
    "        \n",
    "        print(x3.shape)\n",
    "        print(x7.shape)\n",
    "        u7=torch.cat([x7, x3])\n",
    "        x8= f.relu(self.c8(u7))\n",
    "        \n",
    "        print(x2.shape)\n",
    "        print(x8.shape)\n",
    "        u8=torch.cat([x8, x2[:,:,:21,:]])\n",
    "        x9= f.relu(self.c9(u8))\n",
    "        \n",
    "        print(x1.shape)\n",
    "        print(x9.shape)\n",
    "        u9=torch.cat([x9, x1[:,:,:43,:49]])\n",
    "        #out=self.c10(u9)[:,:,4:-4,1:]\n",
    "        \n",
    "        return out"
   ]
  },
  {
   "cell_type": "code",
   "execution_count": 49,
   "metadata": {},
   "outputs": [],
   "source": [
    "%reload_ext autoreload\n",
    "%autoreload 2\n",
    "from data import *\n",
    "from train import *\n",
    "from networks import *\n",
    "from visualisation import *\n",
    "\n",
    "VALIDATION_DATASET_PERC = 0.2\n",
    "TEST_DATASET_PERC = 0.1\n",
    "\n",
    "dataset = H5SeismicDataset(\n",
    "    filepath=\"/datasets/ee228-sp21-A00-public/RIS_Seismic-001.h5\",\n",
    "    transform = transforms.Compose(\n",
    "        [SpecgramShaper(), SpecgramToTensor()]\n",
    "    )\n",
    ")\n",
    "#dataset[0]\n",
    "dataloaders = getDataloaderSplit(dataset, VALIDATION_DATASET_PERC,TEST_DATASET_PERC)"
   ]
  },
  {
   "cell_type": "code",
   "execution_count": 68,
   "metadata": {},
   "outputs": [
    {
     "name": "stdout",
     "output_type": "stream",
     "text": [
      "torch.Size([512, 64, 5, 7])\n",
      "torch.Size([512, 64, 5, 7])\n",
      "torch.Size([512, 32, 11, 13])\n",
      "torch.Size([1024, 32, 11, 13])\n",
      "torch.Size([512, 16, 22, 25])\n",
      "torch.Size([1536, 16, 21, 25])\n",
      "torch.Size([512, 8, 44, 50])\n",
      "torch.Size([2048, 8, 43, 49])\n"
     ]
    },
    {
     "ename": "ValueError",
     "evalue": "too many values to unpack (expected 2)",
     "output_type": "error",
     "traceback": [
      "\u001b[0;31m---------------------------------------------------------------------------\u001b[0m",
      "\u001b[0;31mValueError\u001b[0m                                Traceback (most recent call last)",
      "\u001b[0;32m<ipython-input-68-d8e79d591778>\u001b[0m in \u001b[0;36m<module>\u001b[0;34m\u001b[0m\n\u001b[1;32m      7\u001b[0m \u001b[0mtorch\u001b[0m\u001b[0;34m.\u001b[0m\u001b[0msave\u001b[0m\u001b[0;34m(\u001b[0m\u001b[0mmodel\u001b[0m\u001b[0;34m.\u001b[0m\u001b[0mstate_dict\u001b[0m\u001b[0;34m(\u001b[0m\u001b[0;34m)\u001b[0m\u001b[0;34m,\u001b[0m\u001b[0mPATH_WEIGHTS\u001b[0m\u001b[0;34m)\u001b[0m\u001b[0;34m\u001b[0m\u001b[0;34m\u001b[0m\u001b[0m\n\u001b[1;32m      8\u001b[0m \u001b[0mmodel\u001b[0m\u001b[0;34m.\u001b[0m\u001b[0mto\u001b[0m\u001b[0;34m(\u001b[0m\u001b[0mdevice\u001b[0m\u001b[0;34m)\u001b[0m\u001b[0;34m\u001b[0m\u001b[0;34m\u001b[0m\u001b[0m\n\u001b[0;32m----> 9\u001b[0;31m \u001b[0moutputs\u001b[0m \u001b[0;34m=\u001b[0m \u001b[0mpretrain\u001b[0m\u001b[0;34m(\u001b[0m\u001b[0mmodel\u001b[0m\u001b[0;34m=\u001b[0m \u001b[0mmodel\u001b[0m\u001b[0;34m,\u001b[0m\u001b[0mdataloaders\u001b[0m\u001b[0;34m=\u001b[0m\u001b[0mdataloaders\u001b[0m\u001b[0;34m,\u001b[0m\u001b[0mdevice\u001b[0m\u001b[0;34m=\u001b[0m\u001b[0mdevice\u001b[0m\u001b[0;34m)\u001b[0m\u001b[0;34m\u001b[0m\u001b[0;34m\u001b[0m\u001b[0m\n\u001b[0m\u001b[1;32m     10\u001b[0m \u001b[0mPATH\u001b[0m\u001b[0;34m=\u001b[0m\u001b[0;34m'./saved_models/UNET'\u001b[0m\u001b[0;34m\u001b[0m\u001b[0;34m\u001b[0m\u001b[0m\n\u001b[1;32m     11\u001b[0m \u001b[0mtorch\u001b[0m\u001b[0;34m.\u001b[0m\u001b[0msave\u001b[0m\u001b[0;34m(\u001b[0m\u001b[0mmodel\u001b[0m\u001b[0;34m,\u001b[0m \u001b[0mPATH\u001b[0m\u001b[0;34m)\u001b[0m\u001b[0;34m\u001b[0m\u001b[0;34m\u001b[0m\u001b[0m\n",
      "\u001b[0;32m~/ECE-228/project_repo/ECE228Project/train.py\u001b[0m in \u001b[0;36mpretrain\u001b[0;34m(model, dataloaders, device, lr, epochs)\u001b[0m\n\u001b[1;32m     24\u001b[0m                 \u001b[0m_\u001b[0m\u001b[0;34m,\u001b[0m\u001b[0mbatch\u001b[0m\u001b[0;34m=\u001b[0m \u001b[0mbatch\u001b[0m\u001b[0;34m\u001b[0m\u001b[0;34m\u001b[0m\u001b[0m\n\u001b[1;32m     25\u001b[0m                 \u001b[0mbatch\u001b[0m\u001b[0;34m=\u001b[0m\u001b[0mbatch\u001b[0m\u001b[0;34m.\u001b[0m\u001b[0mto\u001b[0m\u001b[0;34m(\u001b[0m\u001b[0mdevice\u001b[0m\u001b[0;34m)\u001b[0m\u001b[0;34m\u001b[0m\u001b[0;34m\u001b[0m\u001b[0m\n\u001b[0;32m---> 26\u001b[0;31m                 \u001b[0mx_rec\u001b[0m\u001b[0;34m,\u001b[0m \u001b[0m_\u001b[0m\u001b[0;34m=\u001b[0m\u001b[0mmodel\u001b[0m\u001b[0;34m(\u001b[0m\u001b[0mbatch\u001b[0m\u001b[0;34m)\u001b[0m\u001b[0;34m\u001b[0m\u001b[0;34m\u001b[0m\u001b[0m\n\u001b[0m\u001b[1;32m     27\u001b[0m                 \u001b[0mx\u001b[0m\u001b[0;34m=\u001b[0m\u001b[0mbatch\u001b[0m\u001b[0;34m\u001b[0m\u001b[0;34m\u001b[0m\u001b[0m\n\u001b[1;32m     28\u001b[0m                 \u001b[0mloss_mse\u001b[0m \u001b[0;34m=\u001b[0m \u001b[0mloss\u001b[0m\u001b[0;34m(\u001b[0m\u001b[0mx_rec\u001b[0m\u001b[0;34m,\u001b[0m \u001b[0mx\u001b[0m\u001b[0;34m)\u001b[0m\u001b[0;34m\u001b[0m\u001b[0;34m\u001b[0m\u001b[0m\n",
      "\u001b[0;31mValueError\u001b[0m: too many values to unpack (expected 2)"
     ]
    }
   ],
   "source": [
    "if not torch.cuda.is_available():\n",
    "    print('No cuda')\n",
    "#params= {'lr':0.01,'epochs':50}\n",
    "device = torch.device(\"cuda\")\n",
    "model= UNET()\n",
    "PATH_WEIGHTS='./saved_models/UNET_weights'\n",
    "torch.save(model.state_dict(),PATH_WEIGHTS)\n",
    "model.to(device)\n",
    "outputs = pretrain(model= model,dataloaders=dataloaders,device=device)\n",
    "PATH='./saved_models/UNET'\n",
    "torch.save(model, PATH)"
   ]
  },
  {
   "cell_type": "code",
   "execution_count": null,
   "metadata": {},
   "outputs": [],
   "source": []
  },
  {
   "cell_type": "code",
   "execution_count": null,
   "metadata": {},
   "outputs": [],
   "source": []
  }
 ],
 "metadata": {
  "kernelspec": {
   "display_name": "RIS_CUDA_no_pip2",
   "language": "python",
   "name": "ris_cuda_no_pip2"
  },
  "language_info": {
   "codemirror_mode": {
    "name": "ipython",
    "version": 3
   },
   "file_extension": ".py",
   "mimetype": "text/x-python",
   "name": "python",
   "nbconvert_exporter": "python",
   "pygments_lexer": "ipython3",
   "version": "3.8.10"
  }
 },
 "nbformat": 4,
 "nbformat_minor": 2
}
